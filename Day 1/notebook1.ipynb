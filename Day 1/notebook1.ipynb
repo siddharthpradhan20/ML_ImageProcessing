{
 "cells": [
  {
   "cell_type": "code",
   "execution_count": 1,
   "metadata": {
    "colab": {},
    "colab_type": "code",
    "id": "Sodm_LNISsD9"
   },
   "outputs": [],
   "source": [
    "name = \"siddharth\""
   ]
  },
  {
   "cell_type": "code",
   "execution_count": 2,
   "metadata": {
    "colab": {
     "base_uri": "https://localhost:8080/",
     "height": 34
    },
    "colab_type": "code",
    "executionInfo": {
     "elapsed": 1635,
     "status": "ok",
     "timestamp": 1587941196622,
     "user": {
      "displayName": "siddharth pradhan",
      "photoUrl": "",
      "userId": "00317061685171132154"
     },
     "user_tz": -330
    },
    "id": "6crmziprSsED",
    "outputId": "631ed65c-1140-465c-d0a3-8ae562255bab"
   },
   "outputs": [
    {
     "data": {
      "text/plain": [
       "str"
      ]
     },
     "execution_count": 2,
     "metadata": {},
     "output_type": "execute_result"
    }
   ],
   "source": [
    "type(name)"
   ]
  },
  {
   "cell_type": "code",
   "execution_count": 3,
   "metadata": {
    "colab": {},
    "colab_type": "code",
    "id": "bg_ZvjioSsEJ"
   },
   "outputs": [],
   "source": [
    "#list in python"
   ]
  },
  {
   "cell_type": "code",
   "execution_count": 4,
   "metadata": {
    "colab": {},
    "colab_type": "code",
    "id": "Esoi7sHFSsER"
   },
   "outputs": [],
   "source": [
    "list = ['sid', 'jack', 'mike']"
   ]
  },
  {
   "cell_type": "code",
   "execution_count": 5,
   "metadata": {
    "colab": {
     "base_uri": "https://localhost:8080/",
     "height": 34
    },
    "colab_type": "code",
    "executionInfo": {
     "elapsed": 1612,
     "status": "ok",
     "timestamp": 1587941196629,
     "user": {
      "displayName": "siddharth pradhan",
      "photoUrl": "",
      "userId": "00317061685171132154"
     },
     "user_tz": -330
    },
    "id": "Gea5CpLYSsEW",
    "outputId": "2c4ee1ea-8f1e-4789-ff98-0722a7646ce3"
   },
   "outputs": [
    {
     "data": {
      "text/plain": [
       "list"
      ]
     },
     "execution_count": 5,
     "metadata": {},
     "output_type": "execute_result"
    }
   ],
   "source": [
    "type(list)"
   ]
  },
  {
   "cell_type": "code",
   "execution_count": 6,
   "metadata": {
    "colab": {
     "base_uri": "https://localhost:8080/",
     "height": 34
    },
    "colab_type": "code",
    "executionInfo": {
     "elapsed": 1584,
     "status": "ok",
     "timestamp": 1587941196630,
     "user": {
      "displayName": "siddharth pradhan",
      "photoUrl": "",
      "userId": "00317061685171132154"
     },
     "user_tz": -330
    },
    "id": "xQJdCuXtSsEb",
    "outputId": "ac1a74e3-b6a7-4fe9-cf5d-97ea757c97a8"
   },
   "outputs": [
    {
     "data": {
      "text/plain": [
       "'sid'"
      ]
     },
     "execution_count": 6,
     "metadata": {},
     "output_type": "execute_result"
    }
   ],
   "source": [
    "list[0]"
   ]
  },
  {
   "cell_type": "code",
   "execution_count": 7,
   "metadata": {
    "colab": {
     "base_uri": "https://localhost:8080/",
     "height": 34
    },
    "colab_type": "code",
    "executionInfo": {
     "elapsed": 1558,
     "status": "ok",
     "timestamp": 1587941196631,
     "user": {
      "displayName": "siddharth pradhan",
      "photoUrl": "",
      "userId": "00317061685171132154"
     },
     "user_tz": -330
    },
    "id": "tYr18aZsSsEh",
    "outputId": "2a8e349b-12db-4b3f-bd15-561892df07ed"
   },
   "outputs": [
    {
     "data": {
      "text/plain": [
       "'jack'"
      ]
     },
     "execution_count": 7,
     "metadata": {},
     "output_type": "execute_result"
    }
   ],
   "source": [
    "list[1]"
   ]
  },
  {
   "cell_type": "code",
   "execution_count": 8,
   "metadata": {
    "colab": {
     "base_uri": "https://localhost:8080/",
     "height": 163
    },
    "colab_type": "code",
    "executionInfo": {
     "elapsed": 2073,
     "status": "error",
     "timestamp": 1587941197170,
     "user": {
      "displayName": "siddharth pradhan",
      "photoUrl": "",
      "userId": "00317061685171132154"
     },
     "user_tz": -330
    },
    "id": "3EpIiY72SsEo",
    "outputId": "3b527ec2-8255-41f4-dbf6-8df8ed0c7588"
   },
   "outputs": [
    {
     "ename": "IndexError",
     "evalue": "list index out of range",
     "output_type": "error",
     "traceback": [
      "\u001b[0;31m---------------------------------------------------------------------------\u001b[0m",
      "\u001b[0;31mIndexError\u001b[0m                                Traceback (most recent call last)",
      "\u001b[0;32m<ipython-input-8-2bfb923c0bcd>\u001b[0m in \u001b[0;36m<module>\u001b[0;34m\u001b[0m\n\u001b[0;32m----> 1\u001b[0;31m \u001b[0mlist\u001b[0m\u001b[0;34m[\u001b[0m\u001b[0;36m3\u001b[0m\u001b[0;34m]\u001b[0m\u001b[0;34m\u001b[0m\u001b[0;34m\u001b[0m\u001b[0m\n\u001b[0m",
      "\u001b[0;31mIndexError\u001b[0m: list index out of range"
     ]
    }
   ],
   "source": [
    "list[3]"
   ]
  },
  {
   "cell_type": "code",
   "execution_count": 9,
   "metadata": {
    "colab": {
     "base_uri": "https://localhost:8080/",
     "height": 34
    },
    "colab_type": "code",
    "executionInfo": {
     "elapsed": 937,
     "status": "ok",
     "timestamp": 1587941207429,
     "user": {
      "displayName": "siddharth pradhan",
      "photoUrl": "",
      "userId": "00317061685171132154"
     },
     "user_tz": -330
    },
    "id": "F9B2PUY2SsEu",
    "outputId": "fa9a9b86-43bb-43e6-bb13-ed77b9218262"
   },
   "outputs": [
    {
     "data": {
      "text/plain": [
       "['sid', 'jack']"
      ]
     },
     "execution_count": 9,
     "metadata": {},
     "output_type": "execute_result"
    }
   ],
   "source": [
    "list[:2]"
   ]
  },
  {
   "cell_type": "code",
   "execution_count": 10,
   "metadata": {
    "colab": {
     "base_uri": "https://localhost:8080/",
     "height": 34
    },
    "colab_type": "code",
    "executionInfo": {
     "elapsed": 752,
     "status": "ok",
     "timestamp": 1587941209116,
     "user": {
      "displayName": "siddharth pradhan",
      "photoUrl": "",
      "userId": "00317061685171132154"
     },
     "user_tz": -330
    },
    "id": "vp34GAZSSsE0",
    "outputId": "8b1ac6af-2076-48e9-cbad-41807cca4a5c"
   },
   "outputs": [
    {
     "data": {
      "text/plain": [
       "['jack', 'mike']"
      ]
     },
     "execution_count": 10,
     "metadata": {},
     "output_type": "execute_result"
    }
   ],
   "source": [
    "list[1:]"
   ]
  },
  {
   "cell_type": "code",
   "execution_count": 11,
   "metadata": {
    "colab": {},
    "colab_type": "code",
    "id": "AAhKpDz3SsE5"
   },
   "outputs": [],
   "source": [
    "list = [11,22,33,44,55,66,77,88,99]"
   ]
  },
  {
   "cell_type": "code",
   "execution_count": 12,
   "metadata": {
    "colab": {
     "base_uri": "https://localhost:8080/",
     "height": 34
    },
    "colab_type": "code",
    "executionInfo": {
     "elapsed": 1222,
     "status": "ok",
     "timestamp": 1587941214705,
     "user": {
      "displayName": "siddharth pradhan",
      "photoUrl": "",
      "userId": "00317061685171132154"
     },
     "user_tz": -330
    },
    "id": "0E-LrpZNSsE-",
    "outputId": "8d77e397-73f6-4209-c56e-fa08590685b8"
   },
   "outputs": [
    {
     "data": {
      "text/plain": [
       "99"
      ]
     },
     "execution_count": 12,
     "metadata": {},
     "output_type": "execute_result"
    }
   ],
   "source": [
    "list[-1]"
   ]
  },
  {
   "cell_type": "code",
   "execution_count": 13,
   "metadata": {
    "colab": {
     "base_uri": "https://localhost:8080/",
     "height": 34
    },
    "colab_type": "code",
    "executionInfo": {
     "elapsed": 845,
     "status": "ok",
     "timestamp": 1587941215269,
     "user": {
      "displayName": "siddharth pradhan",
      "photoUrl": "",
      "userId": "00317061685171132154"
     },
     "user_tz": -330
    },
    "id": "NdswkNY8SsFF",
    "outputId": "79ce4db4-308f-4432-ffd2-36f26a6e89cc"
   },
   "outputs": [
    {
     "data": {
      "text/plain": [
       "[66, 77, 88, 99]"
      ]
     },
     "execution_count": 13,
     "metadata": {},
     "output_type": "execute_result"
    }
   ],
   "source": [
    "list[-4:]"
   ]
  },
  {
   "cell_type": "code",
   "execution_count": 14,
   "metadata": {
    "colab": {
     "base_uri": "https://localhost:8080/",
     "height": 34
    },
    "colab_type": "code",
    "executionInfo": {
     "elapsed": 927,
     "status": "ok",
     "timestamp": 1587941216098,
     "user": {
      "displayName": "siddharth pradhan",
      "photoUrl": "",
      "userId": "00317061685171132154"
     },
     "user_tz": -330
    },
    "id": "apxe3IkOSsFL",
    "outputId": "77f318c0-fde2-4985-f0b6-c32c176f78b7"
   },
   "outputs": [
    {
     "data": {
      "text/plain": [
       "list"
      ]
     },
     "execution_count": 14,
     "metadata": {},
     "output_type": "execute_result"
    }
   ],
   "source": [
    "type(list)"
   ]
  },
  {
   "cell_type": "code",
   "execution_count": 15,
   "metadata": {
    "colab": {
     "base_uri": "https://localhost:8080/",
     "height": 34
    },
    "colab_type": "code",
    "executionInfo": {
     "elapsed": 1014,
     "status": "ok",
     "timestamp": 1587941218978,
     "user": {
      "displayName": "siddharth pradhan",
      "photoUrl": "",
      "userId": "00317061685171132154"
     },
     "user_tz": -330
    },
    "id": "dI1iYfkpSsFQ",
    "outputId": "a2367501-054e-4919-c9eb-8556af1ec7a1"
   },
   "outputs": [
    {
     "data": {
      "text/plain": [
       "9"
      ]
     },
     "execution_count": 15,
     "metadata": {},
     "output_type": "execute_result"
    }
   ],
   "source": [
    "len(list)"
   ]
  },
  {
   "cell_type": "code",
   "execution_count": 16,
   "metadata": {
    "colab": {},
    "colab_type": "code",
    "id": "jeMGsOM6SsFU"
   },
   "outputs": [],
   "source": [
    "name = [ ['a', 1], ['b',2],['c',3],['d',4]]"
   ]
  },
  {
   "cell_type": "code",
   "execution_count": 17,
   "metadata": {
    "colab": {
     "base_uri": "https://localhost:8080/",
     "height": 34
    },
    "colab_type": "code",
    "executionInfo": {
     "elapsed": 1239,
     "status": "ok",
     "timestamp": 1587941226288,
     "user": {
      "displayName": "siddharth pradhan",
      "photoUrl": "",
      "userId": "00317061685171132154"
     },
     "user_tz": -330
    },
    "id": "XxRjyYu0SsFY",
    "outputId": "87bfad71-c1ca-4636-9dbd-bc15941c5d33"
   },
   "outputs": [
    {
     "data": {
      "text/plain": [
       "4"
      ]
     },
     "execution_count": 17,
     "metadata": {},
     "output_type": "execute_result"
    }
   ],
   "source": [
    "len(name)"
   ]
  },
  {
   "cell_type": "code",
   "execution_count": 18,
   "metadata": {
    "colab": {
     "base_uri": "https://localhost:8080/",
     "height": 34
    },
    "colab_type": "code",
    "executionInfo": {
     "elapsed": 1090,
     "status": "ok",
     "timestamp": 1587941228535,
     "user": {
      "displayName": "siddharth pradhan",
      "photoUrl": "",
      "userId": "00317061685171132154"
     },
     "user_tz": -330
    },
    "id": "ZwR2O2VUSsFc",
    "outputId": "719a8050-5a62-4fa4-f55f-33e6865bb1fb"
   },
   "outputs": [
    {
     "data": {
      "text/plain": [
       "list"
      ]
     },
     "execution_count": 18,
     "metadata": {},
     "output_type": "execute_result"
    }
   ],
   "source": [
    "type(name)"
   ]
  },
  {
   "cell_type": "code",
   "execution_count": 19,
   "metadata": {
    "colab": {
     "base_uri": "https://localhost:8080/",
     "height": 34
    },
    "colab_type": "code",
    "executionInfo": {
     "elapsed": 735,
     "status": "ok",
     "timestamp": 1587941229930,
     "user": {
      "displayName": "siddharth pradhan",
      "photoUrl": "",
      "userId": "00317061685171132154"
     },
     "user_tz": -330
    },
    "id": "BcRh7fR6SsFi",
    "outputId": "c33c606c-087e-4427-9703-796e0f900810"
   },
   "outputs": [
    {
     "data": {
      "text/plain": [
       "[['a', 1], ['b', 2], ['c', 3], ['d', 4]]"
      ]
     },
     "execution_count": 19,
     "metadata": {},
     "output_type": "execute_result"
    }
   ],
   "source": [
    "name"
   ]
  },
  {
   "cell_type": "code",
   "execution_count": 20,
   "metadata": {
    "colab": {
     "base_uri": "https://localhost:8080/",
     "height": 34
    },
    "colab_type": "code",
    "executionInfo": {
     "elapsed": 685,
     "status": "ok",
     "timestamp": 1587941231481,
     "user": {
      "displayName": "siddharth pradhan",
      "photoUrl": "",
      "userId": "00317061685171132154"
     },
     "user_tz": -330
    },
    "id": "j0PfeeDfSsFm",
    "outputId": "f7ddcad9-7a36-4371-a26f-005c84fa61ad"
   },
   "outputs": [
    {
     "data": {
      "text/plain": [
       "['a', 1]"
      ]
     },
     "execution_count": 20,
     "metadata": {},
     "output_type": "execute_result"
    }
   ],
   "source": [
    "name[0]"
   ]
  },
  {
   "cell_type": "code",
   "execution_count": 21,
   "metadata": {
    "colab": {
     "base_uri": "https://localhost:8080/",
     "height": 34
    },
    "colab_type": "code",
    "executionInfo": {
     "elapsed": 636,
     "status": "ok",
     "timestamp": 1587941232985,
     "user": {
      "displayName": "siddharth pradhan",
      "photoUrl": "",
      "userId": "00317061685171132154"
     },
     "user_tz": -330
    },
    "id": "X_8UQsRDSsFq",
    "outputId": "f08bf56b-02a8-4fd4-d393-708c5b6a8175"
   },
   "outputs": [
    {
     "data": {
      "text/plain": [
       "[['c', 3], ['d', 4]]"
      ]
     },
     "execution_count": 21,
     "metadata": {},
     "output_type": "execute_result"
    }
   ],
   "source": [
    "name[2:]"
   ]
  },
  {
   "cell_type": "code",
   "execution_count": 22,
   "metadata": {
    "colab": {},
    "colab_type": "code",
    "id": "8ov1x_E6SsFu"
   },
   "outputs": [
    {
     "data": {
      "text/plain": [
       "1"
      ]
     },
     "execution_count": 22,
     "metadata": {},
     "output_type": "execute_result"
    }
   ],
   "source": [
    "name[0][1]"
   ]
  },
  {
   "cell_type": "code",
   "execution_count": null,
   "metadata": {
    "colab": {},
    "colab_type": "code",
    "id": "MlEVWKrUSsFy"
   },
   "outputs": [],
   "source": [
    "#convert list to aaray"
   ]
  },
  {
   "cell_type": "code",
   "execution_count": null,
   "metadata": {},
   "outputs": [],
   "source": []
  },
  {
   "cell_type": "code",
   "execution_count": null,
   "metadata": {},
   "outputs": [],
   "source": []
  },
  {
   "cell_type": "code",
   "execution_count": null,
   "metadata": {},
   "outputs": [],
   "source": []
  },
  {
   "cell_type": "code",
   "execution_count": null,
   "metadata": {
    "colab": {},
    "colab_type": "code",
    "id": "XTQFiHI3SsF2"
   },
   "outputs": [],
   "source": [
    "!pip install numpy"
   ]
  },
  {
   "cell_type": "code",
   "execution_count": null,
   "metadata": {
    "colab": {},
    "colab_type": "code",
    "id": "mTwPGYjESsF6"
   },
   "outputs": [],
   "source": [
    "import numpy as np"
   ]
  },
  {
   "cell_type": "code",
   "execution_count": null,
   "metadata": {
    "colab": {},
    "colab_type": "code",
    "id": "Lwh9JXd8SsF_"
   },
   "outputs": [],
   "source": [
    "a = np.array(name)"
   ]
  },
  {
   "cell_type": "code",
   "execution_count": null,
   "metadata": {
    "colab": {},
    "colab_type": "code",
    "id": "BvxNTJzUSsGE"
   },
   "outputs": [],
   "source": [
    "a"
   ]
  },
  {
   "cell_type": "code",
   "execution_count": null,
   "metadata": {
    "colab": {},
    "colab_type": "code",
    "id": "0G5CO97YSsGH"
   },
   "outputs": [],
   "source": [
    "!pip install pandas"
   ]
  },
  {
   "cell_type": "code",
   "execution_count": null,
   "metadata": {
    "colab": {},
    "colab_type": "code",
    "id": "TNcOGzYPSsGL"
   },
   "outputs": [],
   "source": [
    "import pandas as pd"
   ]
  },
  {
   "cell_type": "code",
   "execution_count": null,
   "metadata": {
    "colab": {},
    "colab_type": "code",
    "id": "5tJYgLt9SsGP"
   },
   "outputs": [],
   "source": [
    "data = pd.read_csv('data.csv')"
   ]
  },
  {
   "cell_type": "code",
   "execution_count": null,
   "metadata": {
    "colab": {},
    "colab_type": "code",
    "id": "9G2hCwWWSsGV"
   },
   "outputs": [],
   "source": [
    "data"
   ]
  },
  {
   "cell_type": "code",
   "execution_count": null,
   "metadata": {
    "colab": {},
    "colab_type": "code",
    "id": "NZiyMKeSSsGY"
   },
   "outputs": [],
   "source": [
    "type(data)"
   ]
  },
  {
   "cell_type": "code",
   "execution_count": null,
   "metadata": {
    "colab": {},
    "colab_type": "code",
    "id": "xQ12pjxjSsGc"
   },
   "outputs": [],
   "source": [
    "data['duration']"
   ]
  },
  {
   "cell_type": "code",
   "execution_count": null,
   "metadata": {
    "colab": {},
    "colab_type": "code",
    "id": "XqKsSA0wSsGf"
   },
   "outputs": [],
   "source": [
    "data['marks']"
   ]
  },
  {
   "cell_type": "code",
   "execution_count": null,
   "metadata": {
    "colab": {},
    "colab_type": "code",
    "id": "APia_miiSsGj"
   },
   "outputs": [],
   "source": [
    "sum(data['marks'])"
   ]
  },
  {
   "cell_type": "code",
   "execution_count": null,
   "metadata": {
    "colab": {},
    "colab_type": "code",
    "id": "Kjzvvwv4SsGp"
   },
   "outputs": [],
   "source": [
    "!pip install opencv-python"
   ]
  },
  {
   "cell_type": "code",
   "execution_count": null,
   "metadata": {
    "colab": {},
    "colab_type": "code",
    "id": "j2db9vprSsGv"
   },
   "outputs": [],
   "source": [
    "data['duration']==4"
   ]
  },
  {
   "cell_type": "code",
   "execution_count": null,
   "metadata": {
    "colab": {},
    "colab_type": "code",
    "id": "OJb379W5SsG1"
   },
   "outputs": [],
   "source": [
    "my_l = [1,2,3,4,5,6,7,8,9,10]"
   ]
  },
  {
   "cell_type": "code",
   "execution_count": 23,
   "metadata": {
    "colab": {
     "base_uri": "https://localhost:8080/",
     "height": 34
    },
    "colab_type": "code",
    "executionInfo": {
     "elapsed": 692,
     "status": "ok",
     "timestamp": 1587941301043,
     "user": {
      "displayName": "siddharth pradhan",
      "photoUrl": "",
      "userId": "00317061685171132154"
     },
     "user_tz": -330
    },
    "id": "xhXUxigzrRyf",
    "outputId": "54bfcadb-42d5-4f3d-feba-b07b13f4348a"
   },
   "outputs": [
    {
     "data": {
      "text/plain": [
       "list"
      ]
     },
     "execution_count": 23,
     "metadata": {
      "tags": []
     },
     "output_type": "execute_result"
    }
   ],
   "source": [
    "type(my_l)"
   ]
  },
  {
   "cell_type": "code",
   "execution_count": 24,
   "metadata": {
    "colab": {
     "base_uri": "https://localhost:8080/",
     "height": 34
    },
    "colab_type": "code",
    "executionInfo": {
     "elapsed": 1221,
     "status": "ok",
     "timestamp": 1587941327265,
     "user": {
      "displayName": "siddharth pradhan",
      "photoUrl": "",
      "userId": "00317061685171132154"
     },
     "user_tz": -330
    },
    "id": "uJjvyp9LrVef",
    "outputId": "01248bec-b693-478a-e7d2-0b414ed0f503"
   },
   "outputs": [
    {
     "data": {
      "text/plain": [
       "10"
      ]
     },
     "execution_count": 24,
     "metadata": {
      "tags": []
     },
     "output_type": "execute_result"
    }
   ],
   "source": [
    "len(my_l)"
   ]
  },
  {
   "cell_type": "code",
   "execution_count": null,
   "metadata": {
    "colab": {},
    "colab_type": "code",
    "id": "zqYSWMRQrbpN"
   },
   "outputs": [],
   "source": []
  }
 ],
 "metadata": {
  "colab": {
   "name": "notebook1.ipynb",
   "provenance": []
  },
  "kernelspec": {
   "display_name": "Python 3",
   "language": "python",
   "name": "python3"
  },
  "language_info": {
   "codemirror_mode": {
    "name": "ipython",
    "version": 3
   },
   "file_extension": ".py",
   "mimetype": "text/x-python",
   "name": "python",
   "nbconvert_exporter": "python",
   "pygments_lexer": "ipython3",
   "version": "3.7.7"
  }
 },
 "nbformat": 4,
 "nbformat_minor": 4
}
