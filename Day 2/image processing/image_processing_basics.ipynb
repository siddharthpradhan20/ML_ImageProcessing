{
 "cells": [
  {
   "cell_type": "code",
   "execution_count": 2,
   "metadata": {},
   "outputs": [],
   "source": [
    "import cv2"
   ]
  },
  {
   "cell_type": "code",
   "execution_count": 3,
   "metadata": {},
   "outputs": [],
   "source": [
    "photo = cv2.imread('photo.jpg')"
   ]
  },
  {
   "cell_type": "code",
   "execution_count": 4,
   "metadata": {},
   "outputs": [
    {
     "data": {
      "text/plain": [
       "array([[[34, 18, 36],\n",
       "        [34, 18, 36],\n",
       "        [34, 18, 36],\n",
       "        ...,\n",
       "        [36, 17, 12],\n",
       "        [37, 18, 13],\n",
       "        [37, 18, 13]],\n",
       "\n",
       "       [[35, 19, 37],\n",
       "        [35, 19, 37],\n",
       "        [35, 19, 37],\n",
       "        ...,\n",
       "        [36, 17, 12],\n",
       "        [37, 18, 13],\n",
       "        [37, 18, 13]],\n",
       "\n",
       "       [[36, 20, 38],\n",
       "        [36, 20, 38],\n",
       "        [36, 20, 38],\n",
       "        ...,\n",
       "        [36, 17, 12],\n",
       "        [37, 18, 13],\n",
       "        [37, 18, 13]],\n",
       "\n",
       "       ...,\n",
       "\n",
       "       [[37, 17, 12],\n",
       "        [36, 17, 12],\n",
       "        [34, 16, 15],\n",
       "        ...,\n",
       "        [36, 18, 11],\n",
       "        [36, 18, 11],\n",
       "        [36, 18, 11]],\n",
       "\n",
       "       [[38, 18, 13],\n",
       "        [38, 18, 13],\n",
       "        [37, 18, 15],\n",
       "        ...,\n",
       "        [36, 18, 11],\n",
       "        [36, 18, 11],\n",
       "        [36, 18, 11]],\n",
       "\n",
       "       [[38, 18, 13],\n",
       "        [39, 19, 14],\n",
       "        [38, 19, 14],\n",
       "        ...,\n",
       "        [36, 18, 11],\n",
       "        [36, 18, 11],\n",
       "        [36, 18, 11]]], dtype=uint8)"
      ]
     },
     "execution_count": 4,
     "metadata": {},
     "output_type": "execute_result"
    }
   ],
   "source": [
    "photo"
   ]
  },
  {
   "cell_type": "code",
   "execution_count": null,
   "metadata": {},
   "outputs": [],
   "source": [
    "cv2.imshow('hello', photo)\n",
    "cv2.waitKey()\n",
    "cv2.destroyAllWindows()"
   ]
  },
  {
   "cell_type": "code",
   "execution_count": null,
   "metadata": {},
   "outputs": [],
   "source": [
    "photo.shape"
   ]
  },
  {
   "cell_type": "code",
   "execution_count": null,
   "metadata": {},
   "outputs": [],
   "source": [
    "import numpy as np"
   ]
  },
  {
   "cell_type": "code",
   "execution_count": 8,
   "metadata": {},
   "outputs": [],
   "source": [
    "newphoto = cv2.cvtColor(photo, cv2.COLOR_BGR2GRAY)"
   ]
  },
  {
   "cell_type": "code",
   "execution_count": 10,
   "metadata": {},
   "outputs": [],
   "source": [
    "cv2.imshow('newpic', newphoto)\n",
    "cv2.waitKey()\n",
    "cv2.destroyAllWindows()"
   ]
  },
  {
   "cell_type": "code",
   "execution_count": 11,
   "metadata": {},
   "outputs": [
    {
     "data": {
      "text/plain": [
       "(288, 552)"
      ]
     },
     "execution_count": 11,
     "metadata": {},
     "output_type": "execute_result"
    }
   ],
   "source": [
    "newphoto.shape"
   ]
  },
  {
   "cell_type": "code",
   "execution_count": 12,
   "metadata": {},
   "outputs": [
    {
     "data": {
      "text/plain": [
       "array([[25, 25, 25, ..., 18, 19, 19],\n",
       "       [26, 26, 26, ..., 18, 19, 19],\n",
       "       [27, 27, 27, ..., 18, 19, 19],\n",
       "       ...,\n",
       "       [18, 18, 18, ..., 18, 18, 18],\n",
       "       [19, 19, 19, ..., 18, 18, 18],\n",
       "       [19, 20, 20, ..., 18, 18, 18]], dtype=uint8)"
      ]
     },
     "execution_count": 12,
     "metadata": {},
     "output_type": "execute_result"
    }
   ],
   "source": [
    "newphoto"
   ]
  },
  {
   "cell_type": "code",
   "execution_count": 13,
   "metadata": {},
   "outputs": [],
   "source": [
    "import numpy as np"
   ]
  },
  {
   "cell_type": "code",
   "execution_count": 29,
   "metadata": {},
   "outputs": [],
   "source": [
    "c = np.zeros((200,200)) "
   ]
  },
  {
   "cell_type": "code",
   "execution_count": 30,
   "metadata": {},
   "outputs": [
    {
     "data": {
      "text/plain": [
       "array([[0., 0., 0., ..., 0., 0., 0.],\n",
       "       [0., 0., 0., ..., 0., 0., 0.],\n",
       "       [0., 0., 0., ..., 0., 0., 0.],\n",
       "       ...,\n",
       "       [0., 0., 0., ..., 0., 0., 0.],\n",
       "       [0., 0., 0., ..., 0., 0., 0.],\n",
       "       [0., 0., 0., ..., 0., 0., 0.]])"
      ]
     },
     "execution_count": 30,
     "metadata": {},
     "output_type": "execute_result"
    }
   ],
   "source": [
    "c"
   ]
  },
  {
   "cell_type": "code",
   "execution_count": 31,
   "metadata": {},
   "outputs": [],
   "source": [
    "cv2.imshow('c_pic', c)\n",
    "cv2.waitKey()\n",
    "cv2.destroyAllWindows()"
   ]
  },
  {
   "cell_type": "code",
   "execution_count": null,
   "metadata": {},
   "outputs": [],
   "source": []
  }
 ],
 "metadata": {
  "kernelspec": {
   "display_name": "Python 3",
   "language": "python",
   "name": "python3"
  },
  "language_info": {
   "codemirror_mode": {
    "name": "ipython",
    "version": 3
   },
   "file_extension": ".py",
   "mimetype": "text/x-python",
   "name": "python",
   "nbconvert_exporter": "python",
   "pygments_lexer": "ipython3",
   "version": "3.7.7"
  }
 },
 "nbformat": 4,
 "nbformat_minor": 4
}
