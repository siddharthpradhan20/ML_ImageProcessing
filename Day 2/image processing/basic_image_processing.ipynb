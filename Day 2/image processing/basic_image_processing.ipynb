{
 "cells": [
  {
   "cell_type": "code",
   "execution_count": 1,
   "metadata": {},
   "outputs": [],
   "source": [
    "import cv2 as cv"
   ]
  },
  {
   "cell_type": "code",
   "execution_count": 2,
   "metadata": {},
   "outputs": [],
   "source": [
    "pic = cv.imread(\"photo.jpg\")"
   ]
  },
  {
   "cell_type": "code",
   "execution_count": 3,
   "metadata": {},
   "outputs": [
    {
     "data": {
      "text/plain": [
       "array([[[34, 18, 36],\n",
       "        [34, 18, 36],\n",
       "        [34, 18, 36],\n",
       "        ...,\n",
       "        [36, 17, 12],\n",
       "        [37, 18, 13],\n",
       "        [37, 18, 13]],\n",
       "\n",
       "       [[35, 19, 37],\n",
       "        [35, 19, 37],\n",
       "        [35, 19, 37],\n",
       "        ...,\n",
       "        [36, 17, 12],\n",
       "        [37, 18, 13],\n",
       "        [37, 18, 13]],\n",
       "\n",
       "       [[36, 20, 38],\n",
       "        [36, 20, 38],\n",
       "        [36, 20, 38],\n",
       "        ...,\n",
       "        [36, 17, 12],\n",
       "        [37, 18, 13],\n",
       "        [37, 18, 13]],\n",
       "\n",
       "       ...,\n",
       "\n",
       "       [[37, 17, 12],\n",
       "        [36, 17, 12],\n",
       "        [34, 16, 15],\n",
       "        ...,\n",
       "        [36, 18, 11],\n",
       "        [36, 18, 11],\n",
       "        [36, 18, 11]],\n",
       "\n",
       "       [[38, 18, 13],\n",
       "        [38, 18, 13],\n",
       "        [37, 18, 15],\n",
       "        ...,\n",
       "        [36, 18, 11],\n",
       "        [36, 18, 11],\n",
       "        [36, 18, 11]],\n",
       "\n",
       "       [[38, 18, 13],\n",
       "        [39, 19, 14],\n",
       "        [38, 19, 14],\n",
       "        ...,\n",
       "        [36, 18, 11],\n",
       "        [36, 18, 11],\n",
       "        [36, 18, 11]]], dtype=uint8)"
      ]
     },
     "execution_count": 3,
     "metadata": {},
     "output_type": "execute_result"
    }
   ],
   "source": [
    "pic"
   ]
  },
  {
   "cell_type": "code",
   "execution_count": 4,
   "metadata": {},
   "outputs": [],
   "source": [
    "cv.imshow('hello', pic)\n",
    "cv.waitKey()\n",
    "cv.destroyAllWindows()"
   ]
  },
  {
   "cell_type": "code",
   "execution_count": 5,
   "metadata": {},
   "outputs": [],
   "source": [
    "new_pic = cv.cvtColor(pic, cv.COLOR_BGR2GRAY)"
   ]
  },
  {
   "cell_type": "code",
   "execution_count": 6,
   "metadata": {},
   "outputs": [],
   "source": [
    "cv.imshow('bgr2gray', new_pic)\n",
    "cv.waitKey()\n",
    "cv.destroyAllWindows()"
   ]
  },
  {
   "cell_type": "code",
   "execution_count": 7,
   "metadata": {},
   "outputs": [
    {
     "data": {
      "text/plain": [
       "array([[25, 25, 25, ..., 18, 19, 19],\n",
       "       [26, 26, 26, ..., 18, 19, 19],\n",
       "       [27, 27, 27, ..., 18, 19, 19],\n",
       "       ...,\n",
       "       [18, 18, 18, ..., 18, 18, 18],\n",
       "       [19, 19, 19, ..., 18, 18, 18],\n",
       "       [19, 20, 20, ..., 18, 18, 18]], dtype=uint8)"
      ]
     },
     "execution_count": 7,
     "metadata": {},
     "output_type": "execute_result"
    }
   ],
   "source": [
    "new_pic"
   ]
  },
  {
   "cell_type": "code",
   "execution_count": 8,
   "metadata": {},
   "outputs": [
    {
     "data": {
      "text/plain": [
       "(288, 552)"
      ]
     },
     "execution_count": 8,
     "metadata": {},
     "output_type": "execute_result"
    }
   ],
   "source": [
    "new_pic.shape"
   ]
  },
  {
   "cell_type": "code",
   "execution_count": 9,
   "metadata": {},
   "outputs": [],
   "source": [
    "import numpy as np"
   ]
  },
  {
   "cell_type": "code",
   "execution_count": 16,
   "metadata": {},
   "outputs": [],
   "source": [
    "photo_new = np.zeros((400,400)) + 130"
   ]
  },
  {
   "cell_type": "code",
   "execution_count": 17,
   "metadata": {},
   "outputs": [],
   "source": [
    "cv.imshow('photo_new', photo_new)\n",
    "cv.waitKey()\n",
    "cv.destroyAllWindows()"
   ]
  },
  {
   "cell_type": "code",
   "execution_count": null,
   "metadata": {},
   "outputs": [],
   "source": []
  }
 ],
 "metadata": {
  "kernelspec": {
   "display_name": "Python 3",
   "language": "python",
   "name": "python3"
  },
  "language_info": {
   "codemirror_mode": {
    "name": "ipython",
    "version": 3
   },
   "file_extension": ".py",
   "mimetype": "text/x-python",
   "name": "python",
   "nbconvert_exporter": "python",
   "pygments_lexer": "ipython3",
   "version": "3.7.7"
  }
 },
 "nbformat": 4,
 "nbformat_minor": 4
}
