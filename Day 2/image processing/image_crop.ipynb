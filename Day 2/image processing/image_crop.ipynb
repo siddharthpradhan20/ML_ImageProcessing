{
 "cells": [
  {
   "cell_type": "code",
   "execution_count": 1,
   "metadata": {},
   "outputs": [],
   "source": [
    "import cv2"
   ]
  },
  {
   "cell_type": "code",
   "execution_count": 2,
   "metadata": {},
   "outputs": [],
   "source": [
    "photo = cv2.imread('photo.jpg')"
   ]
  },
  {
   "cell_type": "code",
   "execution_count": 3,
   "metadata": {},
   "outputs": [
    {
     "data": {
      "text/plain": [
       "array([[[34, 18, 36],\n",
       "        [34, 18, 36],\n",
       "        [34, 18, 36],\n",
       "        ...,\n",
       "        [36, 17, 12],\n",
       "        [37, 18, 13],\n",
       "        [37, 18, 13]],\n",
       "\n",
       "       [[35, 19, 37],\n",
       "        [35, 19, 37],\n",
       "        [35, 19, 37],\n",
       "        ...,\n",
       "        [36, 17, 12],\n",
       "        [37, 18, 13],\n",
       "        [37, 18, 13]],\n",
       "\n",
       "       [[36, 20, 38],\n",
       "        [36, 20, 38],\n",
       "        [36, 20, 38],\n",
       "        ...,\n",
       "        [36, 17, 12],\n",
       "        [37, 18, 13],\n",
       "        [37, 18, 13]],\n",
       "\n",
       "       ...,\n",
       "\n",
       "       [[37, 17, 12],\n",
       "        [36, 17, 12],\n",
       "        [34, 16, 15],\n",
       "        ...,\n",
       "        [36, 18, 11],\n",
       "        [36, 18, 11],\n",
       "        [36, 18, 11]],\n",
       "\n",
       "       [[38, 18, 13],\n",
       "        [38, 18, 13],\n",
       "        [37, 18, 15],\n",
       "        ...,\n",
       "        [36, 18, 11],\n",
       "        [36, 18, 11],\n",
       "        [36, 18, 11]],\n",
       "\n",
       "       [[38, 18, 13],\n",
       "        [39, 19, 14],\n",
       "        [38, 19, 14],\n",
       "        ...,\n",
       "        [36, 18, 11],\n",
       "        [36, 18, 11],\n",
       "        [36, 18, 11]]], dtype=uint8)"
      ]
     },
     "execution_count": 3,
     "metadata": {},
     "output_type": "execute_result"
    }
   ],
   "source": [
    "photo"
   ]
  },
  {
   "cell_type": "code",
   "execution_count": 4,
   "metadata": {},
   "outputs": [],
   "source": [
    "import numpy as np"
   ]
  },
  {
   "cell_type": "code",
   "execution_count": 5,
   "metadata": {},
   "outputs": [],
   "source": [
    "l = [1,2,3,4,5,6,7,8,9,10,11,12,13,14,15,16]"
   ]
  },
  {
   "cell_type": "code",
   "execution_count": 6,
   "metadata": {},
   "outputs": [
    {
     "data": {
      "text/plain": [
       "[1, 2, 3, 4, 5, 6, 7, 8, 9, 10, 11, 12, 13, 14, 15, 16]"
      ]
     },
     "execution_count": 6,
     "metadata": {},
     "output_type": "execute_result"
    }
   ],
   "source": [
    "l"
   ]
  },
  {
   "cell_type": "code",
   "execution_count": 7,
   "metadata": {},
   "outputs": [],
   "source": [
    "a = np.array(l)"
   ]
  },
  {
   "cell_type": "code",
   "execution_count": 8,
   "metadata": {},
   "outputs": [
    {
     "data": {
      "text/plain": [
       "array([ 1,  2,  3,  4,  5,  6,  7,  8,  9, 10, 11, 12, 13, 14, 15, 16])"
      ]
     },
     "execution_count": 8,
     "metadata": {},
     "output_type": "execute_result"
    }
   ],
   "source": [
    "a"
   ]
  },
  {
   "cell_type": "code",
   "execution_count": 9,
   "metadata": {},
   "outputs": [],
   "source": [
    "new_a = a.reshape(4,4)"
   ]
  },
  {
   "cell_type": "code",
   "execution_count": 10,
   "metadata": {},
   "outputs": [
    {
     "data": {
      "text/plain": [
       "array([[ 1,  2,  3,  4],\n",
       "       [ 5,  6,  7,  8],\n",
       "       [ 9, 10, 11, 12],\n",
       "       [13, 14, 15, 16]])"
      ]
     },
     "execution_count": 10,
     "metadata": {},
     "output_type": "execute_result"
    }
   ],
   "source": [
    "new_a"
   ]
  },
  {
   "cell_type": "code",
   "execution_count": 11,
   "metadata": {},
   "outputs": [
    {
     "data": {
      "text/plain": [
       "array([1, 2, 3, 4])"
      ]
     },
     "execution_count": 11,
     "metadata": {},
     "output_type": "execute_result"
    }
   ],
   "source": [
    "new_a[0]"
   ]
  },
  {
   "cell_type": "code",
   "execution_count": 13,
   "metadata": {},
   "outputs": [
    {
     "data": {
      "text/plain": [
       "array([[ 6,  7],\n",
       "       [10, 11]])"
      ]
     },
     "execution_count": 13,
     "metadata": {},
     "output_type": "execute_result"
    }
   ],
   "source": [
    "new_a[1:3,1:3]"
   ]
  },
  {
   "cell_type": "code",
   "execution_count": 14,
   "metadata": {},
   "outputs": [
    {
     "data": {
      "text/plain": [
       "array([[[34, 18, 36],\n",
       "        [34, 18, 36],\n",
       "        [34, 18, 36],\n",
       "        ...,\n",
       "        [36, 17, 12],\n",
       "        [37, 18, 13],\n",
       "        [37, 18, 13]],\n",
       "\n",
       "       [[35, 19, 37],\n",
       "        [35, 19, 37],\n",
       "        [35, 19, 37],\n",
       "        ...,\n",
       "        [36, 17, 12],\n",
       "        [37, 18, 13],\n",
       "        [37, 18, 13]],\n",
       "\n",
       "       [[36, 20, 38],\n",
       "        [36, 20, 38],\n",
       "        [36, 20, 38],\n",
       "        ...,\n",
       "        [36, 17, 12],\n",
       "        [37, 18, 13],\n",
       "        [37, 18, 13]],\n",
       "\n",
       "       ...,\n",
       "\n",
       "       [[37, 17, 12],\n",
       "        [36, 17, 12],\n",
       "        [34, 16, 15],\n",
       "        ...,\n",
       "        [36, 18, 11],\n",
       "        [36, 18, 11],\n",
       "        [36, 18, 11]],\n",
       "\n",
       "       [[38, 18, 13],\n",
       "        [38, 18, 13],\n",
       "        [37, 18, 15],\n",
       "        ...,\n",
       "        [36, 18, 11],\n",
       "        [36, 18, 11],\n",
       "        [36, 18, 11]],\n",
       "\n",
       "       [[38, 18, 13],\n",
       "        [39, 19, 14],\n",
       "        [38, 19, 14],\n",
       "        ...,\n",
       "        [36, 18, 11],\n",
       "        [36, 18, 11],\n",
       "        [36, 18, 11]]], dtype=uint8)"
      ]
     },
     "execution_count": 14,
     "metadata": {},
     "output_type": "execute_result"
    }
   ],
   "source": [
    "photo"
   ]
  },
  {
   "cell_type": "code",
   "execution_count": 15,
   "metadata": {},
   "outputs": [],
   "source": [
    "cv2.imshow('photo', photo)\n",
    "cv2.waitKey()\n",
    "cv2.destroyAllWindows()"
   ]
  },
  {
   "cell_type": "code",
   "execution_count": 16,
   "metadata": {},
   "outputs": [
    {
     "data": {
      "text/plain": [
       "(288, 552, 3)"
      ]
     },
     "execution_count": 16,
     "metadata": {},
     "output_type": "execute_result"
    }
   ],
   "source": [
    "photo.shape"
   ]
  },
  {
   "cell_type": "code",
   "execution_count": 27,
   "metadata": {},
   "outputs": [],
   "source": [
    "new_photo = photo[25:100,370:450]"
   ]
  },
  {
   "cell_type": "code",
   "execution_count": 28,
   "metadata": {},
   "outputs": [],
   "source": [
    "cv2.imshow('cropped photo', new_photo)\n",
    "cv2.waitKey()\n",
    "cv2.destroyAllWindows()"
   ]
  },
  {
   "cell_type": "code",
   "execution_count": 31,
   "metadata": {},
   "outputs": [],
   "source": [
    "photo[0:75,0:80] = new_photo"
   ]
  },
  {
   "cell_type": "code",
   "execution_count": 33,
   "metadata": {},
   "outputs": [],
   "source": [
    "cv2.imshow('attached_photo', photo)\n",
    "cv2.waitKey()\n",
    "cv2.destroyAllWindows()"
   ]
  },
  {
   "cell_type": "code",
   "execution_count": null,
   "metadata": {},
   "outputs": [],
   "source": []
  }
 ],
 "metadata": {
  "kernelspec": {
   "display_name": "Python 3",
   "language": "python",
   "name": "python3"
  },
  "language_info": {
   "codemirror_mode": {
    "name": "ipython",
    "version": 3
   },
   "file_extension": ".py",
   "mimetype": "text/x-python",
   "name": "python",
   "nbconvert_exporter": "python",
   "pygments_lexer": "ipython3",
   "version": "3.7.7"
  }
 },
 "nbformat": 4,
 "nbformat_minor": 4
}
