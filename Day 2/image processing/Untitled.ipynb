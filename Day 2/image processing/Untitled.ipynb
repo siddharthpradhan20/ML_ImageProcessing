{
 "cells": [
  {
   "cell_type": "code",
   "execution_count": 1,
   "metadata": {},
   "outputs": [],
   "source": [
    "import cv2"
   ]
  },
  {
   "cell_type": "code",
   "execution_count": 3,
   "metadata": {},
   "outputs": [],
   "source": [
    "pic = cv2.imread(\"photo.jpg\")"
   ]
  },
  {
   "cell_type": "code",
   "execution_count": 4,
   "metadata": {},
   "outputs": [
    {
     "data": {
      "text/plain": [
       "array([[[34, 18, 36],\n",
       "        [34, 18, 36],\n",
       "        [34, 18, 36],\n",
       "        ...,\n",
       "        [36, 17, 12],\n",
       "        [37, 18, 13],\n",
       "        [37, 18, 13]],\n",
       "\n",
       "       [[35, 19, 37],\n",
       "        [35, 19, 37],\n",
       "        [35, 19, 37],\n",
       "        ...,\n",
       "        [36, 17, 12],\n",
       "        [37, 18, 13],\n",
       "        [37, 18, 13]],\n",
       "\n",
       "       [[36, 20, 38],\n",
       "        [36, 20, 38],\n",
       "        [36, 20, 38],\n",
       "        ...,\n",
       "        [36, 17, 12],\n",
       "        [37, 18, 13],\n",
       "        [37, 18, 13]],\n",
       "\n",
       "       ...,\n",
       "\n",
       "       [[37, 17, 12],\n",
       "        [36, 17, 12],\n",
       "        [34, 16, 15],\n",
       "        ...,\n",
       "        [36, 18, 11],\n",
       "        [36, 18, 11],\n",
       "        [36, 18, 11]],\n",
       "\n",
       "       [[38, 18, 13],\n",
       "        [38, 18, 13],\n",
       "        [37, 18, 15],\n",
       "        ...,\n",
       "        [36, 18, 11],\n",
       "        [36, 18, 11],\n",
       "        [36, 18, 11]],\n",
       "\n",
       "       [[38, 18, 13],\n",
       "        [39, 19, 14],\n",
       "        [38, 19, 14],\n",
       "        ...,\n",
       "        [36, 18, 11],\n",
       "        [36, 18, 11],\n",
       "        [36, 18, 11]]], dtype=uint8)"
      ]
     },
     "execution_count": 4,
     "metadata": {},
     "output_type": "execute_result"
    }
   ],
   "source": [
    "pic"
   ]
  },
  {
   "cell_type": "code",
   "execution_count": 5,
   "metadata": {},
   "outputs": [],
   "source": [
    "cv2.imshow('original pic', pic)\n",
    "cv2.waitKey()\n",
    "cv2.destroyAllWindows()"
   ]
  },
  {
   "cell_type": "code",
   "execution_count": 6,
   "metadata": {},
   "outputs": [
    {
     "data": {
      "text/plain": [
       "array([[[34, 18, 36],\n",
       "        [34, 18, 36],\n",
       "        [34, 18, 36],\n",
       "        ...,\n",
       "        [36, 17, 12],\n",
       "        [37, 18, 13],\n",
       "        [37, 18, 13]],\n",
       "\n",
       "       [[35, 19, 37],\n",
       "        [35, 19, 37],\n",
       "        [35, 19, 37],\n",
       "        ...,\n",
       "        [36, 17, 12],\n",
       "        [37, 18, 13],\n",
       "        [37, 18, 13]],\n",
       "\n",
       "       [[36, 20, 38],\n",
       "        [36, 20, 38],\n",
       "        [36, 20, 38],\n",
       "        ...,\n",
       "        [36, 17, 12],\n",
       "        [37, 18, 13],\n",
       "        [37, 18, 13]],\n",
       "\n",
       "       ...,\n",
       "\n",
       "       [[37, 17, 12],\n",
       "        [36, 17, 12],\n",
       "        [34, 16, 15],\n",
       "        ...,\n",
       "        [36, 18, 11],\n",
       "        [36, 18, 11],\n",
       "        [36, 18, 11]],\n",
       "\n",
       "       [[38, 18, 13],\n",
       "        [38, 18, 13],\n",
       "        [37, 18, 15],\n",
       "        ...,\n",
       "        [36, 18, 11],\n",
       "        [36, 18, 11],\n",
       "        [36, 18, 11]],\n",
       "\n",
       "       [[38, 18, 13],\n",
       "        [39, 19, 14],\n",
       "        [38, 19, 14],\n",
       "        ...,\n",
       "        [36, 18, 11],\n",
       "        [36, 18, 11],\n",
       "        [36, 18, 11]]], dtype=uint8)"
      ]
     },
     "execution_count": 6,
     "metadata": {},
     "output_type": "execute_result"
    }
   ],
   "source": [
    "pic"
   ]
  },
  {
   "cell_type": "code",
   "execution_count": 22,
   "metadata": {},
   "outputs": [],
   "source": [
    "crop = pic[25:100, 370:460]"
   ]
  },
  {
   "cell_type": "code",
   "execution_count": 23,
   "metadata": {},
   "outputs": [
    {
     "data": {
      "text/plain": [
       "array([[[ 36,  19,  40],\n",
       "        [ 36,  19,  40],\n",
       "        [ 35,  19,  37],\n",
       "        ...,\n",
       "        [ 33,  15,  16],\n",
       "        [ 35,  19,  13],\n",
       "        [ 38,  20,  13]],\n",
       "\n",
       "       [[ 36,  19,  40],\n",
       "        [ 36,  19,  40],\n",
       "        [ 35,  19,  37],\n",
       "        ...,\n",
       "        [ 33,  15,  16],\n",
       "        [ 35,  19,  13],\n",
       "        [ 38,  20,  13]],\n",
       "\n",
       "       [[ 36,  19,  40],\n",
       "        [ 36,  19,  40],\n",
       "        [ 35,  19,  37],\n",
       "        ...,\n",
       "        [ 33,  15,  16],\n",
       "        [ 35,  19,  13],\n",
       "        [ 38,  20,  13]],\n",
       "\n",
       "       ...,\n",
       "\n",
       "       [[ 36,  19,  40],\n",
       "        [ 36,  19,  40],\n",
       "        [ 36,  20,  38],\n",
       "        ...,\n",
       "        [ 34,  29,  60],\n",
       "        [ 30,  22,  53],\n",
       "        [ 34,  17,  61]],\n",
       "\n",
       "       [[ 36,  19,  40],\n",
       "        [ 36,  19,  40],\n",
       "        [ 36,  20,  38],\n",
       "        ...,\n",
       "        [ 36,  24,  84],\n",
       "        [ 34,  23,  69],\n",
       "        [ 40,  24,  71]],\n",
       "\n",
       "       [[ 36,  19,  40],\n",
       "        [ 36,  19,  40],\n",
       "        [ 36,  20,  38],\n",
       "        ...,\n",
       "        [ 38,  19, 100],\n",
       "        [ 43,  28,  85],\n",
       "        [ 49,  37,  79]]], dtype=uint8)"
      ]
     },
     "execution_count": 23,
     "metadata": {},
     "output_type": "execute_result"
    }
   ],
   "source": [
    "crop"
   ]
  },
  {
   "cell_type": "code",
   "execution_count": 24,
   "metadata": {},
   "outputs": [],
   "source": [
    "cv2.imshow('cropped pic', crop)\n",
    "cv2.waitKey()\n",
    "cv2.destroyAllWindows()"
   ]
  },
  {
   "cell_type": "code",
   "execution_count": 25,
   "metadata": {},
   "outputs": [
    {
     "data": {
      "text/plain": [
       "array([[[34, 18, 36],\n",
       "        [34, 18, 36],\n",
       "        [34, 18, 36],\n",
       "        ...,\n",
       "        [36, 17, 12],\n",
       "        [37, 18, 13],\n",
       "        [37, 18, 13]],\n",
       "\n",
       "       [[35, 19, 37],\n",
       "        [35, 19, 37],\n",
       "        [35, 19, 37],\n",
       "        ...,\n",
       "        [36, 17, 12],\n",
       "        [37, 18, 13],\n",
       "        [37, 18, 13]],\n",
       "\n",
       "       [[36, 20, 38],\n",
       "        [36, 20, 38],\n",
       "        [36, 20, 38],\n",
       "        ...,\n",
       "        [36, 17, 12],\n",
       "        [37, 18, 13],\n",
       "        [37, 18, 13]],\n",
       "\n",
       "       ...,\n",
       "\n",
       "       [[37, 17, 12],\n",
       "        [36, 17, 12],\n",
       "        [34, 16, 15],\n",
       "        ...,\n",
       "        [36, 18, 11],\n",
       "        [36, 18, 11],\n",
       "        [36, 18, 11]],\n",
       "\n",
       "       [[38, 18, 13],\n",
       "        [38, 18, 13],\n",
       "        [37, 18, 15],\n",
       "        ...,\n",
       "        [36, 18, 11],\n",
       "        [36, 18, 11],\n",
       "        [36, 18, 11]],\n",
       "\n",
       "       [[38, 18, 13],\n",
       "        [39, 19, 14],\n",
       "        [38, 19, 14],\n",
       "        ...,\n",
       "        [36, 18, 11],\n",
       "        [36, 18, 11],\n",
       "        [36, 18, 11]]], dtype=uint8)"
      ]
     },
     "execution_count": 25,
     "metadata": {},
     "output_type": "execute_result"
    }
   ],
   "source": [
    "pic"
   ]
  },
  {
   "cell_type": "code",
   "execution_count": 26,
   "metadata": {},
   "outputs": [],
   "source": [
    "pic[:75,:90]=crop"
   ]
  },
  {
   "cell_type": "code",
   "execution_count": 27,
   "metadata": {},
   "outputs": [],
   "source": [
    "cv2.imshow('attached_pic', pic)\n",
    "cv2.waitKey()\n",
    "cv2.destroyAllWindows()"
   ]
  },
  {
   "cell_type": "code",
   "execution_count": null,
   "metadata": {},
   "outputs": [],
   "source": []
  }
 ],
 "metadata": {
  "kernelspec": {
   "display_name": "Python 3",
   "language": "python",
   "name": "python3"
  },
  "language_info": {
   "codemirror_mode": {
    "name": "ipython",
    "version": 3
   },
   "file_extension": ".py",
   "mimetype": "text/x-python",
   "name": "python",
   "nbconvert_exporter": "python",
   "pygments_lexer": "ipython3",
   "version": "3.7.7"
  }
 },
 "nbformat": 4,
 "nbformat_minor": 4
}
