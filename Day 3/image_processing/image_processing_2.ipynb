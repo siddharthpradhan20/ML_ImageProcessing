{
 "cells": [
  {
   "cell_type": "code",
   "execution_count": 1,
   "metadata": {},
   "outputs": [],
   "source": [
    "import cv2 as cv"
   ]
  },
  {
   "cell_type": "code",
   "execution_count": 2,
   "metadata": {},
   "outputs": [],
   "source": [
    "photo = cv.imread('sample.jpg')"
   ]
  },
  {
   "cell_type": "code",
   "execution_count": 3,
   "metadata": {},
   "outputs": [],
   "source": [
    "cv.imshow('picture', photo)\n",
    "cv.waitKey()\n",
    "cv.destroyAllWindows()"
   ]
  },
  {
   "cell_type": "code",
   "execution_count": 4,
   "metadata": {},
   "outputs": [
    {
     "data": {
      "text/plain": [
       "(768, 1024, 3)"
      ]
     },
     "execution_count": 4,
     "metadata": {},
     "output_type": "execute_result"
    }
   ],
   "source": [
    "photo.shape"
   ]
  },
  {
   "cell_type": "code",
   "execution_count": 5,
   "metadata": {},
   "outputs": [],
   "source": [
    "# remove blue color from image\n",
    "new_pic = photo[:,:,0]"
   ]
  },
  {
   "cell_type": "code",
   "execution_count": 6,
   "metadata": {},
   "outputs": [
    {
     "data": {
      "text/plain": [
       "array([[ 6,  9, 14, ..., 42, 43, 43],\n",
       "       [11, 12, 16, ..., 39, 39, 40],\n",
       "       [15, 16, 17, ..., 36, 34, 34],\n",
       "       ...,\n",
       "       [54, 53, 53, ..., 70, 67, 64],\n",
       "       [52, 51, 50, ..., 68, 68, 65],\n",
       "       [53, 50, 49, ..., 68, 66, 65]], dtype=uint8)"
      ]
     },
     "execution_count": 6,
     "metadata": {},
     "output_type": "execute_result"
    }
   ],
   "source": [
    "new_pic"
   ]
  },
  {
   "cell_type": "code",
   "execution_count": 7,
   "metadata": {},
   "outputs": [],
   "source": [
    "cv.imshow('picture', new_pic)\n",
    "cv.waitKey()\n",
    "cv.destroyAllWindows()"
   ]
  },
  {
   "cell_type": "code",
   "execution_count": 12,
   "metadata": {},
   "outputs": [],
   "source": [
    "#remove red color\n",
    "photo[:,:,2] = 0"
   ]
  },
  {
   "cell_type": "code",
   "execution_count": 13,
   "metadata": {},
   "outputs": [],
   "source": [
    "cv.imshow('picture', photo)\n",
    "cv.waitKey()\n",
    "cv.destroyAllWindows()"
   ]
  },
  {
   "cell_type": "code",
   "execution_count": 14,
   "metadata": {},
   "outputs": [],
   "source": [
    "photo1 = cv.imread('sample.jpg')"
   ]
  },
  {
   "cell_type": "code",
   "execution_count": 15,
   "metadata": {},
   "outputs": [],
   "source": [
    "# remove all colors other than red\n",
    "photo1[:,:,0:2] = 0"
   ]
  },
  {
   "cell_type": "code",
   "execution_count": 16,
   "metadata": {},
   "outputs": [],
   "source": [
    "cv.imshow('picture', photo1)\n",
    "cv.waitKey()\n",
    "cv.destroyAllWindows()"
   ]
  },
  {
   "cell_type": "code",
   "execution_count": 17,
   "metadata": {},
   "outputs": [],
   "source": [
    "photo2 = cv.imread('sample.jpg')"
   ]
  },
  {
   "cell_type": "code",
   "execution_count": 18,
   "metadata": {},
   "outputs": [],
   "source": [
    "# increase blue color intensity\n",
    "photo2[:,:,0] += 120"
   ]
  },
  {
   "cell_type": "code",
   "execution_count": 19,
   "metadata": {},
   "outputs": [
    {
     "data": {
      "text/plain": [
       "array([[[126, 130, 184],\n",
       "        [129, 135, 190],\n",
       "        [134, 140, 198],\n",
       "        ...,\n",
       "        [162,  86,  87],\n",
       "        [163,  87,  88],\n",
       "        [163,  86,  89]],\n",
       "\n",
       "       [[131, 125, 178],\n",
       "        [132, 128, 183],\n",
       "        [136, 132, 189],\n",
       "        ...,\n",
       "        [159,  85,  86],\n",
       "        [159,  85,  86],\n",
       "        [160,  85,  88]],\n",
       "\n",
       "       [[135, 120, 169],\n",
       "        [136, 123, 174],\n",
       "        [137, 125, 179],\n",
       "        ...,\n",
       "        [156,  84,  85],\n",
       "        [154,  84,  84],\n",
       "        [154,  83,  85]],\n",
       "\n",
       "       ...,\n",
       "\n",
       "       [[174,  91,  87],\n",
       "        [173,  90,  86],\n",
       "        [173,  90,  86],\n",
       "        ...,\n",
       "        [190,  88, 111],\n",
       "        [187,  85, 108],\n",
       "        [184,  82, 105]],\n",
       "\n",
       "       [[172,  92,  87],\n",
       "        [171,  91,  86],\n",
       "        [170,  90,  85],\n",
       "        ...,\n",
       "        [188,  88, 113],\n",
       "        [188,  85, 111],\n",
       "        [185,  82, 108]],\n",
       "\n",
       "       [[173,  93,  88],\n",
       "        [170,  90,  85],\n",
       "        [169,  89,  84],\n",
       "        ...,\n",
       "        [188,  88, 113],\n",
       "        [186,  86, 111],\n",
       "        [185,  82, 108]]], dtype=uint8)"
      ]
     },
     "execution_count": 19,
     "metadata": {},
     "output_type": "execute_result"
    }
   ],
   "source": [
    "photo2"
   ]
  },
  {
   "cell_type": "code",
   "execution_count": null,
   "metadata": {},
   "outputs": [],
   "source": [
    "cv.imshow('picture', photo2)\n",
    "cv.waitKey()\n",
    "cv.destroyAllWindows()"
   ]
  },
  {
   "cell_type": "code",
   "execution_count": null,
   "metadata": {},
   "outputs": [],
   "source": []
  }
 ],
 "metadata": {
  "kernelspec": {
   "display_name": "Python 3",
   "language": "python",
   "name": "python3"
  },
  "language_info": {
   "codemirror_mode": {
    "name": "ipython",
    "version": 3
   },
   "file_extension": ".py",
   "mimetype": "text/x-python",
   "name": "python",
   "nbconvert_exporter": "python",
   "pygments_lexer": "ipython3",
   "version": "3.7.7"
  }
 },
 "nbformat": 4,
 "nbformat_minor": 4
}
