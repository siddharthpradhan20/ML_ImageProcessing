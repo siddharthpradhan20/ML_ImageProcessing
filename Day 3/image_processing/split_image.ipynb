{
 "cells": [
  {
   "cell_type": "code",
   "execution_count": 1,
   "metadata": {},
   "outputs": [],
   "source": [
    "#split"
   ]
  },
  {
   "cell_type": "code",
   "execution_count": 2,
   "metadata": {},
   "outputs": [],
   "source": [
    "import cv2 as cv"
   ]
  },
  {
   "cell_type": "code",
   "execution_count": 3,
   "metadata": {},
   "outputs": [],
   "source": [
    "photo = cv.imread('sample.jpg')"
   ]
  },
  {
   "cell_type": "code",
   "execution_count": 5,
   "metadata": {},
   "outputs": [
    {
     "data": {
      "text/plain": [
       "[array([[ 6,  9, 14, ..., 42, 43, 43],\n",
       "        [11, 12, 16, ..., 39, 39, 40],\n",
       "        [15, 16, 17, ..., 36, 34, 34],\n",
       "        ...,\n",
       "        [54, 53, 53, ..., 70, 67, 64],\n",
       "        [52, 51, 50, ..., 68, 68, 65],\n",
       "        [53, 50, 49, ..., 68, 66, 65]], dtype=uint8),\n",
       " array([[130, 135, 140, ...,  86,  87,  86],\n",
       "        [125, 128, 132, ...,  85,  85,  85],\n",
       "        [120, 123, 125, ...,  84,  84,  83],\n",
       "        ...,\n",
       "        [ 91,  90,  90, ...,  88,  85,  82],\n",
       "        [ 92,  91,  90, ...,  88,  85,  82],\n",
       "        [ 93,  90,  89, ...,  88,  86,  82]], dtype=uint8),\n",
       " array([[184, 190, 198, ...,  87,  88,  89],\n",
       "        [178, 183, 189, ...,  86,  86,  88],\n",
       "        [169, 174, 179, ...,  85,  84,  85],\n",
       "        ...,\n",
       "        [ 87,  86,  86, ..., 111, 108, 105],\n",
       "        [ 87,  86,  85, ..., 113, 111, 108],\n",
       "        [ 88,  85,  84, ..., 113, 111, 108]], dtype=uint8)]"
      ]
     },
     "execution_count": 5,
     "metadata": {},
     "output_type": "execute_result"
    }
   ],
   "source": [
    "cv.split(photo)"
   ]
  },
  {
   "cell_type": "code",
   "execution_count": 6,
   "metadata": {},
   "outputs": [
    {
     "data": {
      "text/plain": [
       "array([[[  6, 130, 184],\n",
       "        [  9, 135, 190],\n",
       "        [ 14, 140, 198],\n",
       "        ...,\n",
       "        [ 42,  86,  87],\n",
       "        [ 43,  87,  88],\n",
       "        [ 43,  86,  89]],\n",
       "\n",
       "       [[ 11, 125, 178],\n",
       "        [ 12, 128, 183],\n",
       "        [ 16, 132, 189],\n",
       "        ...,\n",
       "        [ 39,  85,  86],\n",
       "        [ 39,  85,  86],\n",
       "        [ 40,  85,  88]],\n",
       "\n",
       "       [[ 15, 120, 169],\n",
       "        [ 16, 123, 174],\n",
       "        [ 17, 125, 179],\n",
       "        ...,\n",
       "        [ 36,  84,  85],\n",
       "        [ 34,  84,  84],\n",
       "        [ 34,  83,  85]],\n",
       "\n",
       "       ...,\n",
       "\n",
       "       [[ 54,  91,  87],\n",
       "        [ 53,  90,  86],\n",
       "        [ 53,  90,  86],\n",
       "        ...,\n",
       "        [ 70,  88, 111],\n",
       "        [ 67,  85, 108],\n",
       "        [ 64,  82, 105]],\n",
       "\n",
       "       [[ 52,  92,  87],\n",
       "        [ 51,  91,  86],\n",
       "        [ 50,  90,  85],\n",
       "        ...,\n",
       "        [ 68,  88, 113],\n",
       "        [ 68,  85, 111],\n",
       "        [ 65,  82, 108]],\n",
       "\n",
       "       [[ 53,  93,  88],\n",
       "        [ 50,  90,  85],\n",
       "        [ 49,  89,  84],\n",
       "        ...,\n",
       "        [ 68,  88, 113],\n",
       "        [ 66,  86, 111],\n",
       "        [ 65,  82, 108]]], dtype=uint8)"
      ]
     },
     "execution_count": 6,
     "metadata": {},
     "output_type": "execute_result"
    }
   ],
   "source": [
    "photo"
   ]
  },
  {
   "cell_type": "code",
   "execution_count": 7,
   "metadata": {},
   "outputs": [],
   "source": [
    "B,G,R = cv.split(photo)"
   ]
  },
  {
   "cell_type": "code",
   "execution_count": 8,
   "metadata": {},
   "outputs": [
    {
     "data": {
      "text/plain": [
       "array([[ 6,  9, 14, ..., 42, 43, 43],\n",
       "       [11, 12, 16, ..., 39, 39, 40],\n",
       "       [15, 16, 17, ..., 36, 34, 34],\n",
       "       ...,\n",
       "       [54, 53, 53, ..., 70, 67, 64],\n",
       "       [52, 51, 50, ..., 68, 68, 65],\n",
       "       [53, 50, 49, ..., 68, 66, 65]], dtype=uint8)"
      ]
     },
     "execution_count": 8,
     "metadata": {},
     "output_type": "execute_result"
    }
   ],
   "source": [
    "B"
   ]
  },
  {
   "cell_type": "code",
   "execution_count": 9,
   "metadata": {},
   "outputs": [],
   "source": [
    "# Merging the seperated values in array"
   ]
  },
  {
   "cell_type": "code",
   "execution_count": 10,
   "metadata": {},
   "outputs": [
    {
     "data": {
      "text/plain": [
       "array([[[  6, 130, 184],\n",
       "        [  9, 135, 190],\n",
       "        [ 14, 140, 198],\n",
       "        ...,\n",
       "        [ 42,  86,  87],\n",
       "        [ 43,  87,  88],\n",
       "        [ 43,  86,  89]],\n",
       "\n",
       "       [[ 11, 125, 178],\n",
       "        [ 12, 128, 183],\n",
       "        [ 16, 132, 189],\n",
       "        ...,\n",
       "        [ 39,  85,  86],\n",
       "        [ 39,  85,  86],\n",
       "        [ 40,  85,  88]],\n",
       "\n",
       "       [[ 15, 120, 169],\n",
       "        [ 16, 123, 174],\n",
       "        [ 17, 125, 179],\n",
       "        ...,\n",
       "        [ 36,  84,  85],\n",
       "        [ 34,  84,  84],\n",
       "        [ 34,  83,  85]],\n",
       "\n",
       "       ...,\n",
       "\n",
       "       [[ 54,  91,  87],\n",
       "        [ 53,  90,  86],\n",
       "        [ 53,  90,  86],\n",
       "        ...,\n",
       "        [ 70,  88, 111],\n",
       "        [ 67,  85, 108],\n",
       "        [ 64,  82, 105]],\n",
       "\n",
       "       [[ 52,  92,  87],\n",
       "        [ 51,  91,  86],\n",
       "        [ 50,  90,  85],\n",
       "        ...,\n",
       "        [ 68,  88, 113],\n",
       "        [ 68,  85, 111],\n",
       "        [ 65,  82, 108]],\n",
       "\n",
       "       [[ 53,  93,  88],\n",
       "        [ 50,  90,  85],\n",
       "        [ 49,  89,  84],\n",
       "        ...,\n",
       "        [ 68,  88, 113],\n",
       "        [ 66,  86, 111],\n",
       "        [ 65,  82, 108]]], dtype=uint8)"
      ]
     },
     "execution_count": 10,
     "metadata": {},
     "output_type": "execute_result"
    }
   ],
   "source": [
    "cv.merge([B,G,R])"
   ]
  },
  {
   "cell_type": "code",
   "execution_count": 11,
   "metadata": {},
   "outputs": [],
   "source": [
    "newphoto = cv.merge([B,G,R])"
   ]
  },
  {
   "cell_type": "code",
   "execution_count": 12,
   "metadata": {},
   "outputs": [],
   "source": [
    "cv.imshow('Merged_photo', newphoto)\n",
    "cv.waitKey()\n",
    "cv.destroyAllWindows()"
   ]
  },
  {
   "cell_type": "code",
   "execution_count": 13,
   "metadata": {},
   "outputs": [
    {
     "data": {
      "text/plain": [
       "(768, 1024, 3)"
      ]
     },
     "execution_count": 13,
     "metadata": {},
     "output_type": "execute_result"
    }
   ],
   "source": [
    "photo.shape"
   ]
  },
  {
   "cell_type": "code",
   "execution_count": 15,
   "metadata": {},
   "outputs": [],
   "source": [
    "import numpy as np"
   ]
  },
  {
   "cell_type": "code",
   "execution_count": 17,
   "metadata": {},
   "outputs": [],
   "source": [
    "zero = np.zeros((768,1024))"
   ]
  },
  {
   "cell_type": "code",
   "execution_count": 18,
   "metadata": {},
   "outputs": [
    {
     "data": {
      "text/plain": [
       "array([[0., 0., 0., ..., 0., 0., 0.],\n",
       "       [0., 0., 0., ..., 0., 0., 0.],\n",
       "       [0., 0., 0., ..., 0., 0., 0.],\n",
       "       ...,\n",
       "       [0., 0., 0., ..., 0., 0., 0.],\n",
       "       [0., 0., 0., ..., 0., 0., 0.],\n",
       "       [0., 0., 0., ..., 0., 0., 0.]])"
      ]
     },
     "execution_count": 18,
     "metadata": {},
     "output_type": "execute_result"
    }
   ],
   "source": [
    "zero"
   ]
  },
  {
   "cell_type": "code",
   "execution_count": 23,
   "metadata": {},
   "outputs": [],
   "source": [
    "# need to change the data type of Z\n",
    "Z = zero.astype('uint8')"
   ]
  },
  {
   "cell_type": "code",
   "execution_count": 24,
   "metadata": {},
   "outputs": [
    {
     "data": {
      "text/plain": [
       "<function ndarray.astype>"
      ]
     },
     "execution_count": 24,
     "metadata": {},
     "output_type": "execute_result"
    }
   ],
   "source": [
    "B.astype"
   ]
  },
  {
   "cell_type": "code",
   "execution_count": 25,
   "metadata": {},
   "outputs": [
    {
     "data": {
      "text/plain": [
       "dtype('uint8')"
      ]
     },
     "execution_count": 25,
     "metadata": {},
     "output_type": "execute_result"
    }
   ],
   "source": [
    "B.dtype"
   ]
  },
  {
   "cell_type": "code",
   "execution_count": 27,
   "metadata": {},
   "outputs": [],
   "source": [
    "new_pic=cv.merge([B,G,Z])"
   ]
  },
  {
   "cell_type": "code",
   "execution_count": 28,
   "metadata": {},
   "outputs": [
    {
     "data": {
      "text/plain": [
       "array([[[  6, 130,   0],\n",
       "        [  9, 135,   0],\n",
       "        [ 14, 140,   0],\n",
       "        ...,\n",
       "        [ 42,  86,   0],\n",
       "        [ 43,  87,   0],\n",
       "        [ 43,  86,   0]],\n",
       "\n",
       "       [[ 11, 125,   0],\n",
       "        [ 12, 128,   0],\n",
       "        [ 16, 132,   0],\n",
       "        ...,\n",
       "        [ 39,  85,   0],\n",
       "        [ 39,  85,   0],\n",
       "        [ 40,  85,   0]],\n",
       "\n",
       "       [[ 15, 120,   0],\n",
       "        [ 16, 123,   0],\n",
       "        [ 17, 125,   0],\n",
       "        ...,\n",
       "        [ 36,  84,   0],\n",
       "        [ 34,  84,   0],\n",
       "        [ 34,  83,   0]],\n",
       "\n",
       "       ...,\n",
       "\n",
       "       [[ 54,  91,   0],\n",
       "        [ 53,  90,   0],\n",
       "        [ 53,  90,   0],\n",
       "        ...,\n",
       "        [ 70,  88,   0],\n",
       "        [ 67,  85,   0],\n",
       "        [ 64,  82,   0]],\n",
       "\n",
       "       [[ 52,  92,   0],\n",
       "        [ 51,  91,   0],\n",
       "        [ 50,  90,   0],\n",
       "        ...,\n",
       "        [ 68,  88,   0],\n",
       "        [ 68,  85,   0],\n",
       "        [ 65,  82,   0]],\n",
       "\n",
       "       [[ 53,  93,   0],\n",
       "        [ 50,  90,   0],\n",
       "        [ 49,  89,   0],\n",
       "        ...,\n",
       "        [ 68,  88,   0],\n",
       "        [ 66,  86,   0],\n",
       "        [ 65,  82,   0]]], dtype=uint8)"
      ]
     },
     "execution_count": 28,
     "metadata": {},
     "output_type": "execute_result"
    }
   ],
   "source": [
    "new_pic"
   ]
  },
  {
   "cell_type": "code",
   "execution_count": 29,
   "metadata": {},
   "outputs": [],
   "source": [
    "cv.imshow('new_pic', new_pic)\n",
    "cv.waitKey()\n",
    "cv.destroyAllWindows()"
   ]
  },
  {
   "cell_type": "code",
   "execution_count": null,
   "metadata": {},
   "outputs": [],
   "source": []
  }
 ],
 "metadata": {
  "kernelspec": {
   "display_name": "Python 3",
   "language": "python",
   "name": "python3"
  },
  "language_info": {
   "codemirror_mode": {
    "name": "ipython",
    "version": 3
   },
   "file_extension": ".py",
   "mimetype": "text/x-python",
   "name": "python",
   "nbconvert_exporter": "python",
   "pygments_lexer": "ipython3",
   "version": "3.7.7"
  }
 },
 "nbformat": 4,
 "nbformat_minor": 4
}
