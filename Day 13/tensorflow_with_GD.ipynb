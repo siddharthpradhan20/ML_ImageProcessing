{
 "cells": [
  {
   "cell_type": "code",
   "execution_count": 1,
   "metadata": {
    "colab": {},
    "colab_type": "code",
    "id": "PnhKUfXFV7tI"
   },
   "outputs": [],
   "source": [
    "import tensorflow as tf"
   ]
  },
  {
   "cell_type": "code",
   "execution_count": 2,
   "metadata": {
    "colab": {},
    "colab_type": "code",
    "id": "n-U9KRXJV7tM"
   },
   "outputs": [],
   "source": [
    "x =tf.constant(3.0)"
   ]
  },
  {
   "cell_type": "code",
   "execution_count": 3,
   "metadata": {
    "colab": {},
    "colab_type": "code",
    "id": "Ub_LOiY1V7tQ"
   },
   "outputs": [],
   "source": [
    "y = tf.constant(6.0)"
   ]
  },
  {
   "cell_type": "code",
   "execution_count": 4,
   "metadata": {
    "colab": {},
    "colab_type": "code",
    "id": "7-_BTYHbV7tt"
   },
   "outputs": [],
   "source": [
    "w = tf.Variable(20.0)"
   ]
  },
  {
   "cell_type": "code",
   "execution_count": 5,
   "metadata": {
    "colab": {
     "base_uri": "https://localhost:8080/",
     "height": 34
    },
    "colab_type": "code",
    "id": "GREDjdiTV7tx",
    "outputId": "ed132319-bdca-4b7b-95d6-78abb61943e7"
   },
   "outputs": [
    {
     "name": "stdout",
     "output_type": "stream",
     "text": [
      "weight : 17.0 descent :  3.0 loss : 54.0\n"
     ]
    }
   ],
   "source": [
    "# back propogation\n",
    "with tf.GradientTape() as tape:\n",
    "    # loss / cost function\n",
    "    # feed forwarding \n",
    "    # neuron : w*x -y : linear activation function\n",
    "    loss = tf.math.abs(w*x -y)\n",
    "    # optimizer: descent, means change weight, goal to reach minimize error\n",
    "    dx = tape.gradient(loss, w )\n",
    "    # adjusting weight\n",
    "    w.assign(w-dx)\n",
    "    print(\"weight :\" , w.numpy(), \"descent : \", dx.numpy(), \"loss :\",  loss.numpy())\n",
    "    \n",
    "#descent means change in weight"
   ]
  }
 ],
 "metadata": {
  "colab": {
   "name": "Copy of tensorflow with GD.ipynb",
   "provenance": []
  },
  "kernelspec": {
   "display_name": "Python 3",
   "language": "python",
   "name": "python3"
  },
  "language_info": {
   "codemirror_mode": {
    "name": "ipython",
    "version": 3
   },
   "file_extension": ".py",
   "mimetype": "text/x-python",
   "name": "python",
   "nbconvert_exporter": "python",
   "pygments_lexer": "ipython3",
   "version": "3.8.3"
  }
 },
 "nbformat": 4,
 "nbformat_minor": 4
}
