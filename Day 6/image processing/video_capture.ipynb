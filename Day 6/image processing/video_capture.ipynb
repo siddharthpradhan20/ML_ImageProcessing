{
 "cells": [
  {
   "cell_type": "code",
   "execution_count": 1,
   "metadata": {},
   "outputs": [],
   "source": [
    "import cv2"
   ]
  },
  {
   "cell_type": "code",
   "execution_count": 2,
   "metadata": {},
   "outputs": [],
   "source": [
    "cap = cv2.VideoCapture(0)"
   ]
  },
  {
   "cell_type": "code",
   "execution_count": 3,
   "metadata": {},
   "outputs": [],
   "source": [
    "while True:\n",
    "    status , photo = cap.read()\n",
    "    cphoto = photo[100:400 , 200:500]\n",
    "    rphoto = cv2.resize(cphoto, (100,100))\n",
    "    photo[0:100 , 0:100] = rphoto\n",
    "    grey_photo = cv2.cvtColor(photo , cv2.COLOR_BGR2GRAY)\n",
    "    cv2.imshow('hi' , grey_photo)\n",
    "    if cv2.waitKey(33) == ord('a'):\n",
    "        break\n",
    "    \n",
    "cap.release()    \n",
    "cv2.destroyAllWindows()"
   ]
  },
  {
   "cell_type": "code",
   "execution_count": null,
   "metadata": {},
   "outputs": [],
   "source": []
  }
 ],
 "metadata": {
  "kernelspec": {
   "display_name": "Python 3",
   "language": "python",
   "name": "python3"
  },
  "language_info": {
   "codemirror_mode": {
    "name": "ipython",
    "version": 3
   },
   "file_extension": ".py",
   "mimetype": "text/x-python",
   "name": "python",
   "nbconvert_exporter": "python",
   "pygments_lexer": "ipython3",
   "version": "3.7.7"
  }
 },
 "nbformat": 4,
 "nbformat_minor": 4
}
